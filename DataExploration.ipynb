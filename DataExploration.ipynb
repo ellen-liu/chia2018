{
 "cells": [
  {
   "cell_type": "code",
   "execution_count": 44,
   "metadata": {},
   "outputs": [],
   "source": [
    "import pandas as pd\n",
    "import numpy as np\n",
    "import matplotlib as plt"
   ]
  },
  {
   "cell_type": "code",
   "execution_count": 51,
   "metadata": {},
   "outputs": [
    {
     "data": {
      "text/html": [
       "<div>\n",
       "<style scoped>\n",
       "    .dataframe tbody tr th:only-of-type {\n",
       "        vertical-align: middle;\n",
       "    }\n",
       "\n",
       "    .dataframe tbody tr th {\n",
       "        vertical-align: top;\n",
       "    }\n",
       "\n",
       "    .dataframe thead th {\n",
       "        text-align: right;\n",
       "    }\n",
       "</style>\n",
       "<table border=\"1\" class=\"dataframe\">\n",
       "  <thead>\n",
       "    <tr style=\"text-align: right;\">\n",
       "      <th></th>\n",
       "      <th>Funding Type</th>\n",
       "      <th>Employer Size</th>\n",
       "      <th>months_2014</th>\n",
       "      <th>months_2015</th>\n",
       "      <th>months_2016</th>\n",
       "      <th>members_2014</th>\n",
       "      <th>members_2015</th>\n",
       "      <th>members_2016</th>\n",
       "    </tr>\n",
       "  </thead>\n",
       "  <tbody>\n",
       "    <tr>\n",
       "      <th>0</th>\n",
       "      <td>Fully-Insured</td>\n",
       "      <td>Individual</td>\n",
       "      <td>970943</td>\n",
       "      <td>2043684</td>\n",
       "      <td>2749178</td>\n",
       "      <td>80912</td>\n",
       "      <td>170307</td>\n",
       "      <td>229098</td>\n",
       "    </tr>\n",
       "    <tr>\n",
       "      <th>1</th>\n",
       "      <td>Fully-Insured</td>\n",
       "      <td>Small Group</td>\n",
       "      <td>6385381</td>\n",
       "      <td>6072045</td>\n",
       "      <td>5881221</td>\n",
       "      <td>532115</td>\n",
       "      <td>506004</td>\n",
       "      <td>490102</td>\n",
       "    </tr>\n",
       "    <tr>\n",
       "      <th>2</th>\n",
       "      <td>Fully-Insured</td>\n",
       "      <td>Mid-Size Group</td>\n",
       "      <td>3238313</td>\n",
       "      <td>3166680</td>\n",
       "      <td>3024740</td>\n",
       "      <td>269859</td>\n",
       "      <td>263890</td>\n",
       "      <td>252062</td>\n",
       "    </tr>\n",
       "    <tr>\n",
       "      <th>3</th>\n",
       "      <td>Fully-Insured</td>\n",
       "      <td>Large Group</td>\n",
       "      <td>5091116</td>\n",
       "      <td>5006600</td>\n",
       "      <td>4936324</td>\n",
       "      <td>424260</td>\n",
       "      <td>417217</td>\n",
       "      <td>411360</td>\n",
       "    </tr>\n",
       "    <tr>\n",
       "      <th>4</th>\n",
       "      <td>Fully-Insured</td>\n",
       "      <td>Jumbo Group</td>\n",
       "      <td>4424667</td>\n",
       "      <td>4508796</td>\n",
       "      <td>4615832</td>\n",
       "      <td>368722</td>\n",
       "      <td>375733</td>\n",
       "      <td>384653</td>\n",
       "    </tr>\n",
       "    <tr>\n",
       "      <th>5</th>\n",
       "      <td>Fully-Insured</td>\n",
       "      <td>GIC</td>\n",
       "      <td>621856</td>\n",
       "      <td>650576</td>\n",
       "      <td>675596</td>\n",
       "      <td>51821</td>\n",
       "      <td>54215</td>\n",
       "      <td>56300</td>\n",
       "    </tr>\n",
       "    <tr>\n",
       "      <th>6</th>\n",
       "      <td>Fully-Insured</td>\n",
       "      <td>Total</td>\n",
       "      <td>20732276</td>\n",
       "      <td>21448381</td>\n",
       "      <td>21882891</td>\n",
       "      <td>1727690</td>\n",
       "      <td>1787365</td>\n",
       "      <td>1823574</td>\n",
       "    </tr>\n",
       "  </tbody>\n",
       "</table>\n",
       "</div>"
      ],
      "text/plain": [
       "    Funding Type   Employer Size  months_2014  months_2015  months_2016  \\\n",
       "0  Fully-Insured      Individual       970943      2043684      2749178   \n",
       "1  Fully-Insured     Small Group      6385381      6072045      5881221   \n",
       "2  Fully-Insured  Mid-Size Group      3238313      3166680      3024740   \n",
       "3  Fully-Insured     Large Group      5091116      5006600      4936324   \n",
       "4  Fully-Insured     Jumbo Group      4424667      4508796      4615832   \n",
       "5  Fully-Insured             GIC       621856       650576       675596   \n",
       "6  Fully-Insured           Total     20732276     21448381     21882891   \n",
       "\n",
       "   members_2014  members_2015  members_2016  \n",
       "0         80912        170307        229098  \n",
       "1        532115        506004        490102  \n",
       "2        269859        263890        252062  \n",
       "3        424260        417217        411360  \n",
       "4        368722        375733        384653  \n",
       "5         51821         54215         56300  \n",
       "6       1727690       1787365       1823574  "
      ]
     },
     "execution_count": 51,
     "metadata": {},
     "output_type": "execute_result"
    }
   ],
   "source": [
    "df = pd.read_csv(\"~/Desktop/chia2018/2017/enrollment_premiums/enrollment_by_employer_size.csv\", thousands=\",\")\n",
    "#Reading the dataset in a dataframe using Pandas\n",
    "num = 7\n",
    "df.head(7) #prints <num> rows"
   ]
  },
  {
   "cell_type": "code",
   "execution_count": 52,
   "metadata": {},
   "outputs": [
    {
     "name": "stdout",
     "output_type": "stream",
     "text": [
      "<class 'pandas.core.frame.DataFrame'>\n",
      "RangeIndex: 7 entries, 0 to 6\n",
      "Data columns (total 8 columns):\n",
      "Funding Type     7 non-null object\n",
      "Employer Size    7 non-null object\n",
      "months_2014      7 non-null int64\n",
      "months_2015      7 non-null int64\n",
      "months_2016      7 non-null int64\n",
      "members_2014     7 non-null int64\n",
      "members_2015     7 non-null int64\n",
      "members_2016     7 non-null int64\n",
      "dtypes: int64(6), object(2)\n",
      "memory usage: 528.0+ bytes\n"
     ]
    },
    {
     "data": {
      "text/plain": [
       "Funding Type     object\n",
       "Employer Size    object\n",
       "months_2014       int64\n",
       "months_2015       int64\n",
       "months_2016       int64\n",
       "members_2014      int64\n",
       "members_2015      int64\n",
       "members_2016      int64\n",
       "dtype: object"
      ]
     },
     "execution_count": 52,
     "metadata": {},
     "output_type": "execute_result"
    }
   ],
   "source": [
    "df.info()\n",
    "df.dtypes\n"
   ]
  },
  {
   "cell_type": "code",
   "execution_count": null,
   "metadata": {},
   "outputs": [],
   "source": []
  }
 ],
 "metadata": {
  "kernelspec": {
   "display_name": "Python 3",
   "language": "python",
   "name": "python3"
  },
  "language_info": {
   "codemirror_mode": {
    "name": "ipython",
    "version": 3
   },
   "file_extension": ".py",
   "mimetype": "text/x-python",
   "name": "python",
   "nbconvert_exporter": "python",
   "pygments_lexer": "ipython3",
   "version": "3.6.3"
  }
 },
 "nbformat": 4,
 "nbformat_minor": 2
}
